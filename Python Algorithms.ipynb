{
 "cells": [
  {
   "cell_type": "code",
   "execution_count": 1,
   "metadata": {},
   "outputs": [
    {
     "name": "stdout",
     "output_type": "stream",
     "text": [
      "Halo Dunia\n"
     ]
    }
   ],
   "source": [
    "print(\"Halo Dunia\")"
   ]
  },
  {
   "cell_type": "code",
   "execution_count": 8,
   "metadata": {},
   "outputs": [
    {
     "name": "stdout",
     "output_type": "stream",
     "text": [
      "['Kurniadi', 'Ahmad', 'Wijaya']\n"
     ]
    }
   ],
   "source": [
    "# Set List Data Ke Array\n",
    "\n",
    "data = []\n",
    "\n",
    "# Melakukan Append Data Sesuai Urutan \n",
    "\n",
    "data.append(\"Kurniadi\")\n",
    "data.append(\"Wijaya\")\n",
    "\n",
    "# Insert Memasukkan Data Sesuai Indeks Array\n",
    "\n",
    "data.insert(1,\"Ahmad\")\n",
    "print(data)"
   ]
  },
  {
   "cell_type": "code",
   "execution_count": 2,
   "metadata": {},
   "outputs": [
    {
     "data": {
      "text/plain": [
       "['Kurniadi', 'Wijaya']"
      ]
     },
     "execution_count": 2,
     "metadata": {},
     "output_type": "execute_result"
    }
   ],
   "source": [
    "data = []\n",
    "data.append(\"Kurniadi\")\n",
    "data.append(\"Wijaya\")\n",
    "data.insert(1,\"Ahmad\")\n",
    "data.remove('Ahmad')\n",
    "data"
   ]
  },
  {
   "cell_type": "code",
   "execution_count": 12,
   "metadata": {},
   "outputs": [
    {
     "data": {
      "text/plain": [
       "range(0, 10)"
      ]
     },
     "execution_count": 12,
     "metadata": {},
     "output_type": "execute_result"
    }
   ],
   "source": [
    " range(10)"
   ]
  },
  {
   "cell_type": "code",
   "execution_count": 15,
   "metadata": {},
   "outputs": [
    {
     "data": {
      "text/plain": [
       "[1, 2, 3, 4, 5, 6, 7, 8, 9, 10]"
      ]
     },
     "execution_count": 15,
     "metadata": {},
     "output_type": "execute_result"
    }
   ],
   "source": [
    "a = list(range(1, 11))\n",
    "a"
   ]
  },
  {
   "cell_type": "code",
   "execution_count": 23,
   "metadata": {
    "scrolled": true
   },
   "outputs": [
    {
     "data": {
      "text/plain": [
       "[2, 3, 4, 5, 6, 7, 8]"
      ]
     },
     "execution_count": 23,
     "metadata": {},
     "output_type": "execute_result"
    }
   ],
   "source": [
    "a[1:8]"
   ]
  },
  {
   "cell_type": "code",
   "execution_count": 28,
   "metadata": {},
   "outputs": [
    {
     "data": {
      "text/plain": [
       "[1, 3, 5, 7, 9]"
      ]
     },
     "execution_count": 28,
     "metadata": {},
     "output_type": "execute_result"
    }
   ],
   "source": [
    "a[::2]"
   ]
  },
  {
   "cell_type": "code",
   "execution_count": 34,
   "metadata": {},
   "outputs": [
    {
     "data": {
      "text/plain": [
       "[1, 2, 3, 4, 5, 6]"
      ]
     },
     "execution_count": 34,
     "metadata": {},
     "output_type": "execute_result"
    }
   ],
   "source": [
    "a[:6:]"
   ]
  },
  {
   "cell_type": "code",
   "execution_count": 48,
   "metadata": {},
   "outputs": [
    {
     "name": "stdout",
     "output_type": "stream",
     "text": [
      "Panjang Variabel 5\n",
      "\n",
      "Aang\n",
      "Adi\n",
      "Kurniadi\n",
      "Nindra\n",
      "Rian\n",
      "\n",
      "0\n",
      "1\n",
      "2\n",
      "3\n",
      "4\n"
     ]
    }
   ],
   "source": [
    "b = ['Aang','Adi','Kurniadi','Nindra','Rian']\n",
    "\n",
    "print(\"Panjang Variabel\", len(b))\n",
    "\n",
    "print(\"\")\n",
    "\n",
    "for i in b :\n",
    "    print(i)\n",
    "\n",
    "print(\"\")\n",
    "    \n",
    "for i in range(len(b)): # Melakukan Print Variabel Sesuai Dengan Panjang Variable Menggunakan len Yang Ada\n",
    "    print(i)"
   ]
  },
  {
   "cell_type": "code",
   "execution_count": 3,
   "metadata": {},
   "outputs": [
    {
     "name": "stdout",
     "output_type": "stream",
     "text": [
      "[1, 2, 3, 4, 5, 6, 7, 8, 9, 10, 11, 12, 13, 14, 15, 16, 17, 18, 19, 20, 21, 22, 23, 24, 25, 26, 27, 28, 29, 30, 31, 32, 33, 34, 35, 36, 37, 38, 39, 40, 41, 42, 43, 44, 45, 46, 47, 48, 49]\n",
      "\n",
      "Nilai Max :  49\n",
      "Nilai Min :  1\n",
      "\n",
      "Pencarian Index Ke-10 :  9\n",
      "Pencarian Index Minimum :  0\n",
      "Pencarian Index Maximum :  48\n"
     ]
    }
   ],
   "source": [
    "a = list(range(1,50))\n",
    "\n",
    "print(a)\n",
    "\n",
    "print(\"\")\n",
    "\n",
    "# Mencari Nilai Max dan Min\n",
    "\n",
    "print(\"Nilai Max : \" , max(a))\n",
    "print(\"Nilai Min : \", min(a))\n",
    "\n",
    "print(\"\")\n",
    "\n",
    "# Melakukan Pencarian Index\n",
    "\n",
    "print(\"Pencarian Index Ke-10 : \", a.index(10))\n",
    "print(\"Pencarian Index Minimum : \", a.index(min(a)))\n",
    "print(\"Pencarian Index Maximum : \", a.index(max(a)))"
   ]
  },
  {
   "cell_type": "code",
   "execution_count": 83,
   "metadata": {},
   "outputs": [],
   "source": [
    "# Mendefinisikan Fungsi\n",
    "\n",
    "#def Add(x=2,y=2) : [Ini Setting Parameter Default]\n",
    "#    return x + y\n",
    "\n",
    "def Add(x=2,y=2) :\n",
    "    return x + y"
   ]
  },
  {
   "cell_type": "code",
   "execution_count": 84,
   "metadata": {},
   "outputs": [
    {
     "name": "stdout",
     "output_type": "stream",
     "text": [
      "20\n"
     ]
    }
   ],
   "source": [
    "if __name__ ==\"__main__\": # Untuk Memasukkan Kedalam Main\n",
    "    \n",
    "    a = 5\n",
    "    b = 15\n",
    "\n",
    "    print(Add(a, b))"
   ]
  },
  {
   "cell_type": "code",
   "execution_count": 102,
   "metadata": {},
   "outputs": [
    {
     "name": "stdout",
     "output_type": "stream",
     "text": [
      "Elemen A :  [1, 2, 3, 4, 5, 6, 7, 8, 9]\n",
      "Elemen B :  [2, 4, 6, 8]\n"
     ]
    }
   ],
   "source": [
    "a = list(range(1,10))\n",
    "# b = [i+5 for i in a] # Menambahkan Jumlah Range\n",
    "b = [i for i in a if i%2==0] # Percabangan Kondisi\n",
    "\n",
    "print(\"Elemen A : \", a)\n",
    "print(\"Elemen B : \", b)"
   ]
  },
  {
   "cell_type": "code",
   "execution_count": 103,
   "metadata": {},
   "outputs": [
    {
     "data": {
      "text/plain": [
       "8"
      ]
     },
     "execution_count": 103,
     "metadata": {},
     "output_type": "execute_result"
    }
   ],
   "source": [
    "Kurang = lambda x:x-2 # Function Sebaris Dengan Lambda\n",
    "Kurang(10)"
   ]
  },
  {
   "cell_type": "code",
   "execution_count": 115,
   "metadata": {},
   "outputs": [
    {
     "name": "stdout",
     "output_type": "stream",
     "text": [
      "[3, 4, 5, 6, 7, 8, 9, 10, 11, 12]\n"
     ]
    }
   ],
   "source": [
    "a = list(range(1,11))\n",
    "print(list(map(lambda x:x+2, a))) # Looping Fungsi"
   ]
  },
  {
   "cell_type": "code",
   "execution_count": 121,
   "metadata": {},
   "outputs": [
    {
     "name": "stdout",
     "output_type": "stream",
     "text": [
      "(1, '2', 3, 4, 2)\n"
     ]
    }
   ],
   "source": [
    "# Definisi tuple\n",
    "a = (1,\"2\",3,4)\n",
    "\n",
    "# a[2] = 10 # Nilai Tidak Dapat Dirubah \"tuple\"\n",
    "\n",
    "# Tuple Tidak Dapat Dirubah Dengan Method Dibawah\n",
    "# a.insert(\"Halo\", 1)\n",
    "# a.append(\"Halo\")\n",
    "\n",
    "# Tuple Dapat Di isi dengan cara dibawah yaitu mengubahnya ke list\n",
    "a = list(a)\n",
    "a.append(2)\n",
    "a = tuple(a)\n",
    "\n",
    "print(a)"
   ]
  },
  {
   "cell_type": "code",
   "execution_count": 129,
   "metadata": {},
   "outputs": [],
   "source": [
    "# Class Digunakan Untuk Megelompokkan Fungsi\n",
    "\n",
    "class Manusia:\n",
    "    def __init__(self, nama, umur, gender): # self = this\n",
    "        self.nama = nama\n",
    "        self.umur = umur\n",
    "        self.gender = gender\n",
    "    \n",
    "    def dataDiri(self):\n",
    "        print(\"Nama : \", self.nama)\n",
    "        print(\"Umur : \", self.umur)\n",
    "        print(\"Gender : \", self.gender)\n",
    "        "
   ]
  },
  {
   "cell_type": "code",
   "execution_count": 130,
   "metadata": {},
   "outputs": [],
   "source": [
    "Budi = Manusia(\"Budi\", 18, \"Laki-Laki\")"
   ]
  },
  {
   "cell_type": "code",
   "execution_count": 131,
   "metadata": {},
   "outputs": [
    {
     "name": "stdout",
     "output_type": "stream",
     "text": [
      "Nama :  Budi\n",
      "Umur :  18\n",
      "Gender :  Laki-Laki\n"
     ]
    }
   ],
   "source": [
    "Budi.dataDiri()"
   ]
  },
  {
   "cell_type": "code",
   "execution_count": null,
   "metadata": {},
   "outputs": [],
   "source": []
  }
 ],
 "metadata": {
  "kernelspec": {
   "display_name": "Python 3",
   "language": "python",
   "name": "python3"
  },
  "language_info": {
   "codemirror_mode": {
    "name": "ipython",
    "version": 3
   },
   "file_extension": ".py",
   "mimetype": "text/x-python",
   "name": "python",
   "nbconvert_exporter": "python",
   "pygments_lexer": "ipython3",
   "version": "3.7.3"
  }
 },
 "nbformat": 4,
 "nbformat_minor": 2
}
